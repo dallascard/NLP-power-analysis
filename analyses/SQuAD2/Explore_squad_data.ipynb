{
 "cells": [
  {
   "cell_type": "code",
   "execution_count": null,
   "metadata": {
    "colab": {
     "base_uri": "https://localhost:8080/",
     "height": 54
    },
    "colab_type": "code",
    "id": "Pi93XP-1le-7",
    "outputId": "964fb6b3-7eac-44fa-8558-4eb138be77e2"
   },
   "outputs": [],
   "source": [
    "%matplotlib inline\n",
    "import os\n",
    "from collections import defaultdict\n",
    "\n",
    "import numpy as np\n",
    "import pandas as pd\n",
    "import matplotlib.pyplot as plt\n",
    "from statsmodels.stats.contingency_tables import mcnemar"
   ]
  },
  {
   "cell_type": "code",
   "execution_count": null,
   "metadata": {
    "colab": {
     "base_uri": "https://localhost:8080/",
     "height": 129
    },
    "colab_type": "code",
    "id": "xX4-5i5Bmxu3",
    "outputId": "c37ee621-5492-4db8-a16f-ca1682883d85"
   },
   "outputs": [],
   "source": [
    "# Load the Drive helper and mount\n",
    "from google.colab import drive\n",
    "\n",
    "# This will prompt for authorization.\n",
    "drive.mount('/content/drive')"
   ]
  },
  {
   "cell_type": "code",
   "execution_count": null,
   "metadata": {
    "colab": {
     "base_uri": "https://localhost:8080/",
     "height": 274
    },
    "colab_type": "code",
    "id": "9ZX0ZnUile_J",
    "outputId": "51581087-a382-4813-840a-2dd281953b76",
    "scrolled": true
   },
   "outputs": [],
   "source": [
    "base_path = \"/content/drive/My Drive/NLP Power Analysis/data/squad\"\n",
    "\n",
    "file1 = 'models.tsv'\n",
    "models_df = pd.read_csv(os.path.join(base_path, file1), header=0, index_col=0, sep='\\t')\n"
   ]
  },
  {
   "cell_type": "code",
   "execution_count": null,
   "metadata": {
    "colab": {
     "base_uri": "https://localhost:8080/",
     "height": 206
    },
    "colab_type": "code",
    "id": "-iVqoIgFle_W",
    "outputId": "33b71366-292b-44a1-8f50-b88e76def327"
   },
   "outputs": [],
   "source": [
    "file2 = 'pairs.tsv'\n",
    "pairs_df = pd.read_csv(os.path.join(base_path, file2), header=0, index_col=None, sep='\\t')\n"
   ]
  },
  {
   "cell_type": "code",
   "execution_count": null,
   "metadata": {
    "colab": {},
    "colab_type": "code",
    "id": "i5Jxh7Ille_g"
   },
   "outputs": [],
   "source": [
    "n_dev = 11873\n",
    "n_test = 8862\n",
    "model_index = list(models_df.index)\n",
    "dev_ems = models_df['dev_em'].values\n",
    "test_ems = models_df['test_em'].values\n",
    "sota = models_df['sota'].values\n",
    "descriptions = models_df['description'].values\n",
    "dates = models_df['date'].values\n",
    "\n",
    "dev_deltas = defaultdict(dict)\n",
    "dev_disagreements = defaultdict(dict)\n",
    "test_deltas = defaultdict(dict)\n",
    "test_disagreements = defaultdict(dict)\n",
    "\n",
    "i_list = pairs_df['i'].values\n",
    "j_list = pairs_df['j'].values\n",
    "\n",
    "# collect the deltas and disagreements for each pair of models\n",
    "dev_deltas_list = pairs_df['dev_delta'].values\n",
    "dev_disagree_list = pairs_df['dev_disagree'].values\n",
    "test_deltas_list = pairs_df['test_delta'].values\n",
    "test_disagree_list = pairs_df['test_disagree'].values\n",
    "for index in range(len(i_list)):\n",
    "    dev_deltas[i_list[index]][j_list[index]] = dev_deltas_list[index]\n",
    "    dev_disagreements[i_list[index]][j_list[index]] = dev_disagree_list[index]\n",
    "    test_deltas[i_list[index]][j_list[index]] = test_deltas_list[index]\n",
    "    test_disagreements[i_list[index]][j_list[index]] = test_disagree_list[index]    "
   ]
  },
  {
   "cell_type": "code",
   "execution_count": null,
   "metadata": {
    "colab": {},
    "colab_type": "code",
    "id": "o2wmWQchle_o"
   },
   "outputs": [],
   "source": [
    "# simulate many draws\n",
    "def compute_power(table, dataset_size,  n_sim=5000, alpha=0.05):\n",
    "    pvals = []\n",
    "    for i in range(n_sim):  # number of simulations\n",
    "        sample = np.random.multinomial(n=dataset_size, pvals=table.reshape((4,))).reshape((2,2))\n",
    "        test_results = mcnemar(sample)\n",
    "        pvals.append(test_results.pvalue)\n",
    "    pvals = np.array(pvals)\n",
    "    return np.mean(pvals < alpha)\n"
   ]
  },
  {
   "cell_type": "code",
   "execution_count": null,
   "metadata": {
    "colab": {},
    "colab_type": "code",
    "id": "PgqX853zle_y"
   },
   "outputs": [],
   "source": [
    "def make_prob_table(baseline_em, new_em, n_delta, n_disagreement, n_total):\n",
    "    n_new_win = n_disagreement // 2 + n_delta // 2\n",
    "    n_old_win = n_disagreement // 2 - n_delta // 2\n",
    "    p_new_win = n_new_win / n_total\n",
    "    p_old_win = n_old_win / n_total\n",
    "    p_both_1 = baseline_em / 100 - p_old_win\n",
    "    p_both_2 = new_em/100 - p_new_win\n",
    "    try:\n",
    "        assert np.abs(p_both_1 - p_both_2) < 0.001\n",
    "    except AssertionError as e:\n",
    "        print(baseline_em, new_em, n_delta, n_disagreement, n_total)\n",
    "        raise e\n",
    "    p_neither = 1.0 - p_both_1 - p_new_win - p_old_win\n",
    "    assert p_neither > 0\n",
    "    table = np.array([[p_neither, p_new_win], [p_old_win, p_both_1]])\n",
    "    return table\n"
   ]
  },
  {
   "cell_type": "code",
   "execution_count": null,
   "metadata": {
    "colab": {},
    "colab_type": "code",
    "id": "fwDGoY_rle_6"
   },
   "outputs": [],
   "source": [
    "def make_count_table(baseline_em, new_em, n_delta, n_disagreement, n_total):\n",
    "    n_old_correct = int(np.round(n_total * baseline_em / 100))\n",
    "    n_new_correct = int(np.round(n_total * new_em / 100))\n",
    "    n_delta = n_new_correct - n_old_correct\n",
    "    n_new_win = n_disagreement // 2 + n_delta // 2\n",
    "    n_old_win = n_disagreement // 2 - n_delta // 2\n",
    "    n_both_1 = int(np.round(n_total * baseline_em / 100)) - n_old_win\n",
    "    n_both_2 = int(np.round(n_total * new_em / 100)) - n_new_win\n",
    "    try:\n",
    "        assert np.abs(n_both_1 - n_both_2) < 2\n",
    "    except AssertionError as e:\n",
    "        print(baseline_em, new_em, n_delta, n_disagreement, n_total)\n",
    "        print(n_total * baseline_em / 100, n_total * new_em / 100, np.round(n_total * new_em / 100), np.round(n_total * new_em / 100) - np.round(n_total * baseline_em / 100) )\n",
    "        print(n_both_1, n_both_2)\n",
    "        raise e\n",
    "    n_neither = n_test - n_both_1 - n_new_win - n_old_win\n",
    "    assert n_neither > 0\n",
    "    table = np.array([[n_neither, n_new_win], [n_old_win, n_both_1]])\n",
    "    return table"
   ]
  },
  {
   "cell_type": "code",
   "execution_count": null,
   "metadata": {
    "colab": {
     "base_uri": "https://localhost:8080/",
     "height": 1000
    },
    "colab_type": "code",
    "id": "ALAUdnpolfAC",
    "outputId": "4e2fbf99-1c5e-4d53-ced5-8e18306dee92"
   },
   "outputs": [],
   "source": [
    "# start with the first model as SOTA\n",
    "sota_index = 0\n",
    "print(descriptions[sota_index])\n",
    "powers = []\n",
    "pvals = []\n",
    "test_improvement = []\n",
    "dev_improvement = []\n",
    "new_sotas = []\n",
    "new_sotas_info = []\n",
    "for i in range(1, len(model_index)):\n",
    "    # get performance for current sota\n",
    "    sota_test_em = test_ems[sota_index]\n",
    "    sota_dev_em = dev_ems[sota_index]\n",
    "    # get performance of new model\n",
    "    dev_em = dev_ems[i]\n",
    "    test_em = test_ems[i]\n",
    "    # get deltas and disagreements\n",
    "    dev_delta = dev_deltas[sota_index][i]\n",
    "    dev_disagreement = dev_disagreements[sota_index][i]\n",
    "    test_delta = test_deltas[sota_index][i]\n",
    "    test_disagreement = test_disagreements[sota_index][i]\n",
    "    \n",
    "    # make a probability table based on dev performance\n",
    "    table = make_prob_table(sota_dev_em, dev_em, dev_delta, dev_disagreement, n_dev)\n",
    "    # compute power\n",
    "    power = compute_power(table, n_dev)\n",
    "    \n",
    "    # make a count table based on test numbers\n",
    "    table = make_count_table(sota_test_em, test_em, test_delta, test_disagreement, n_test)\n",
    "    # run a significance test\n",
    "    result = mcnemar(table)\n",
    "    pval = result.pvalue\n",
    "    powers.append(power)\n",
    "    pvals.append(pval)\n",
    "    if dev_em > sota_dev_em:\n",
    "        dev_improvement.append(1)\n",
    "    else:\n",
    "        dev_improvement.append(0)\n",
    "    if test_em > sota_test_em:\n",
    "        test_improvement.append(1)\n",
    "    else:\n",
    "        test_improvement.append(0)\n",
    "    # only count as SOTA is powered dev improvement and significnat test improvement\n",
    "    new_sota = False    \n",
    "    \n",
    "    if dev_em > sota_dev_em and power >= 0.8 and pval <= 0.05 and test_em > sota_test_em:\n",
    "        #print(descriptions[i])\n",
    "        sota_index = i\n",
    "        new_sota = True\n",
    "        new_sotas.append(i)\n",
    "        new_sotas_info.append((sota_test_em/100.0,(test_em - sota_test_em)/100.0, test_disagreement/n_test))\n",
    "        print(new_sotas_info[-1])\n",
    "    #print('{:s} {:.3f} {:.3f} {:.3f} {:.3f} {:.3f} {:.9f} {:d}'.format(descriptions[i][:30], sota_dev_em, dev_em, sota_test_em, test_em, power, pval, new_sota))\n",
    "\n",
    "print(len(new_sotas_info))"
   ]
  },
  {
   "cell_type": "code",
   "execution_count": null,
   "metadata": {
    "colab": {
     "base_uri": "https://localhost:8080/",
     "height": 1000
    },
    "colab_type": "code",
    "id": "RxWuekHHMmjj",
    "outputId": "f7a0dacf-0dfe-4971-a35a-56227a248b14"
   },
   "outputs": [],
   "source": [
    "print(\"---------------- Regressing Effect Size ----------------\")\n",
    "print(new_sotas_info)\n",
    "x = [z[0] for z in new_sotas_info]\n",
    "y = [z[1] for z in new_sotas_info]\n",
    "import statsmodels.api as sm     \n",
    "import numpy as np \n",
    "x = np.array(x).reshape(-1, 1)\n",
    "\n",
    "xt = sm.add_constant(x)\n",
    "print(x)\n",
    "\n",
    "print(y)\n",
    "# import pdb; pdb.set_trace()\n",
    "# xt = np.array(x)\n",
    "lm_1 = sm.OLS(np.array(y), xt).fit()\n",
    "print(lm_1.summary().as_latex())\n",
    "new_point = np.array([.90724]).reshape(-1, 1)\n",
    "print(new_point.shape)\n",
    "\n",
    "new_pointt = sm.add_constant(new_point, has_constant='add')\n",
    "print(new_pointt.shape)\n",
    "\n",
    "print(lm_1.predict(new_pointt))\n",
    "\n",
    "print(\"---------------- Regressing Overlap ----------------\")\n",
    "\n",
    "print(new_sotas_info)\n",
    "x = [[z[0],z[1]] for z in new_sotas_info]\n",
    "y = [1.0 - z[2] for z in new_sotas_info] # predict agreement overall\n",
    "import statsmodels.api as sm     \n",
    "import numpy as np \n",
    "x = np.array(x).reshape(-1, 2)\n",
    "\n",
    "xt = sm.add_constant(x)\n",
    "print(x)\n",
    "\n",
    "print(y)\n",
    "# import pdb; pdb.set_trace()\n",
    "# xt = np.array(x)\n",
    "lm_1 = sm.OLS(np.array(y), xt).fit()\n",
    "print(lm_1.summary().as_latex())\n",
    "# new_point = np.array([.90724,]).reshape(-1, 1)\n",
    "# print(new_point.shape)\n",
    "\n",
    "# new_pointt = sm.add_constant(new_point, has_constant='add')\n",
    "# print(new_pointt.shape)\n",
    "\n",
    "# lm_1.predict(new_pointt)\n"
   ]
  },
  {
   "cell_type": "code",
   "execution_count": null,
   "metadata": {
    "colab": {},
    "colab_type": "code",
    "id": "27prx7lJlfAJ",
    "outputId": "287211c2-f3f8-4d45-a324-81d46b626487"
   },
   "outputs": [],
   "source": [
    "# group by categories and count numbers in each\n",
    "cats = ['no sig test diff', 'sig test improvement', 'sig test decline']\n",
    "unpowered_dev_improvement = np.zeros(3)\n",
    "unpowered_no_dev_improvement = np.zeros(3)\n",
    "powered_dev_improvement = np.zeros(3)\n",
    "powered_no_dev_improvement = np.zeros(3)\n",
    "unpowered = np.zeros(3)\n",
    "beta = 0.8\n",
    "for i, power in enumerate(powers):\n",
    "    if dev_improvement[i]:\n",
    "        if powers[i] < beta:\n",
    "            #target = unpowered_dev_improvement\n",
    "            target = unpowered\n",
    "        else:\n",
    "            target = powered_dev_improvement\n",
    "    else:\n",
    "        if powers[i] < beta:\n",
    "            #target = unpowered_no_dev_improvement\n",
    "            target = unpowered\n",
    "        else:\n",
    "            target = powered_no_dev_improvement\n",
    "    if dev_improvement[i] == 0 or powers[i] < 0.8:\n",
    "        if test_improvement[i] and pvals[i] < 0.05:\n",
    "            print(powers[i], pvals[i], dev_improvement[i], test_improvement[i], descriptions[i])\n",
    "            \n",
    "    if pvals[i] > 0.05:\n",
    "        target[0] += 1 \n",
    "    elif test_improvement[i]:\n",
    "        target[1] += 1\n",
    "    else:\n",
    "        target[2] += 1\n",
    "        \n",
    "            \n",
    "#print(\"Unpowered dev improvement\", unpowered_dev_improvement, unpowered_dev_improvement/np.sum(unpowered_dev_improvement))\n",
    "print(\"Unpowered\", unpowered, unpowered/np.sum(unpowered))\n",
    "print(\"Powered no dev improvement\", powered_no_dev_improvement, powered_no_dev_improvement/np.sum(powered_no_dev_improvement))\n",
    "print(\"Powered dev improvement\", powered_dev_improvement, powered_dev_improvement/np.sum(powered_dev_improvement))\n",
    "# add together those without a powered dev improvement\n",
    "print(\"No powered dev improvement\", (unpowered + powered_no_dev_improvement), (unpowered + powered_no_dev_improvement)/ (unpowered + powered_no_dev_improvement).sum())\n"
   ]
  },
  {
   "cell_type": "code",
   "execution_count": null,
   "metadata": {
    "colab": {},
    "colab_type": "code",
    "id": "hbW5XpSFlfAQ",
    "outputId": "b640217d-8c33-4727-99e3-573551e243d0"
   },
   "outputs": [],
   "source": [
    "# construct the plot somewhat manually\n",
    "other = unpowered + powered_no_dev_improvement\n",
    "x_offset = 0.5\n",
    "y_offset = -0.05\n",
    "fig, axes = plt.subplots(ncols=2, sharey=True)\n",
    "plt.subplots_adjust(wspace=0.1)\n",
    "axes[0].barh(range(3), [powered_dev_improvement[2], powered_dev_improvement[0], powered_dev_improvement[1]], label='Powered dev improvement')\n",
    "axes[0].text(powered_dev_improvement[2]+x_offset, y_offset, '0', size=12)\n",
    "axes[0].text(powered_dev_improvement[0]+x_offset-0.2, 1+y_offset, str(int(powered_dev_improvement[0])), size=12)\n",
    "axes[0].text(powered_dev_improvement[1]+x_offset-0.2, 2+y_offset, str(int(powered_dev_improvement[1])), size=12)\n",
    "axes[0].set_yticks(range(3))\n",
    "axes[0].set_xlim(0, 17)\n",
    "axes[0].set_yticklabels(['Sig. worse on test', 'No sig. difference', 'Sig. better on test'])\n",
    "axes[0].set_title('Validation improvement\\nwith power > 80%')\n",
    "axes[0].set_xlabel('Count')\n",
    "axes[1].barh(range(3), [other[2], other[0], other[1]], label='Other')\n",
    "axes[1].text(other[2]+x_offset, y_offset, str(int(other[2])), size=12)\n",
    "axes[1].text(other[0]+x_offset, 1+y_offset, str(int(other[0])), size=12)\n",
    "axes[1].text(other[1]+x_offset, 2+y_offset, str(int(other[1])), size=12)\n",
    "axes[1].set_xlim(0, 130)\n",
    "axes[1].set_title('Other')\n",
    "axes[1].set_xlabel('Count')\n",
    "plt.savefig('figures/squad_control.pdf', bbox_inches='tight')\n",
    "plt.show();"
   ]
  }
 ],
 "metadata": {
  "colab": {
   "name": "Explore squad data - Regression .ipynb",
   "provenance": []
  },
  "kernelspec": {
   "display_name": "Python 3",
   "language": "python",
   "name": "python3"
  },
  "language_info": {
   "codemirror_mode": {
    "name": "ipython",
    "version": 3
   },
   "file_extension": ".py",
   "mimetype": "text/x-python",
   "name": "python",
   "nbconvert_exporter": "python",
   "pygments_lexer": "ipython3",
   "version": "3.7.5"
  }
 },
 "nbformat": 4,
 "nbformat_minor": 1
}
