{
 "cells": [
  {
   "cell_type": "code",
   "execution_count": 1,
   "metadata": {},
   "outputs": [],
   "source": [
    "import numpy as np\n",
    "from scipy.stats import laplace"
   ]
  },
  {
   "cell_type": "code",
   "execution_count": 2,
   "metadata": {},
   "outputs": [
    {
     "name": "stdout",
     "output_type": "stream",
     "text": [
      "Mean observed difference = 1.026\n",
      "Approximate power = 0.756\n",
      "Approximate Type-M error = 1.200\n",
      "Approximate Type-S error = 0.000\n"
     ]
    }
   ],
   "source": [
    "np.random.seed(2786345)\n",
    "\n",
    "# # Specify these four parameters\n",
    "p_zero = 0.13\n",
    "N = 2000\n",
    "delta_bleu = 1.0\n",
    "b_zero = 25.8\n",
    "\n",
    "n_trials = 500  # number of outer loops\n",
    "n_randomizations = 1000   # number of inner loops\n",
    "\n",
    "# compute mu (Laplace location parameter) and b (Laplace scale parameter)\n",
    "mu = -2 * delta_bleu / (N * (1-p_zero))\n",
    "b = b_zero / N\n",
    "\n",
    "uppers = []\n",
    "all_diffs = []\n",
    "sig_diffs = []\n",
    "n_successes = 0\n",
    "\n",
    "for i in range(n_trials):\n",
    "    # draw a sample of individual effects\n",
    "    laplace_samples = np.random.laplace(mu, b, size=N)\n",
    "    # zero out a random proportion of them\n",
    "    zeros = np.random.choice([0,1], size=N, p=[p_zero, 1-p_zero])\n",
    "    samples = zeros*laplace_samples\n",
    "\n",
    "    # determine what the implied difference between models is for these swaps\n",
    "    # it should be half the total change that would result if we flipped everything\n",
    "    observed_difference = -np.sum(samples)/2\n",
    "    all_diffs.append(observed_difference)\n",
    "\n",
    "    # choose random subsets to apply and then aggregate\n",
    "    effects = []\n",
    "    for j in range(n_randomizations):\n",
    "        # get a list of random floats\n",
    "        rands = np.random.rand(N)\n",
    "        # with p=0.5, choose an item (i.e. make that flip)\n",
    "        sel = np.array(rands > 0.5, dtype=float)\n",
    "        # compute the (approximate) net effect of making all those swaps\n",
    "        total_effect = np.sum(samples * sel)\n",
    "        effects.append(total_effect)\n",
    "\n",
    "    # apply these effects to get the null distribution\n",
    "    null_vals = np.array(effects) + observed_difference\n",
    "\n",
    "    # assuming our initial difference is positive, look at the upper tail\n",
    "    upper = np.percentile(null_vals, q=97.5)  \n",
    "    lower = np.percentile(null_vals, q=2.5)\n",
    "    uppers.append(upper)\n",
    "    \n",
    "    # if the original difference for this sample is above this threshold, that's significant  \n",
    "    if observed_difference >= upper or observed_difference <= lower:\n",
    "        sig_diffs.append(observed_difference)\n",
    "        if np.sign(observed_difference) == np.sign(delta_bleu):\n",
    "            n_successes += 1\n",
    "    \n",
    "power = n_successes / n_trials\n",
    "print(\"Mean observed difference = {:.3f}\".format(np.mean(all_diffs)))\n",
    "print(\"Approximate power = {:.3f}\".format(power))\n",
    "print(\"Approximate Type-M error = {:.3f}\".format(np.mean(np.abs(sig_diffs))/np.abs(delta_bleu)))\n",
    "print(\"Approximate Type-S error = {:.3f}\".format(np.mean(np.sign(sig_diffs) != np.sign(delta_bleu))))\n"
   ]
  },
  {
   "cell_type": "code",
   "execution_count": null,
   "metadata": {},
   "outputs": [],
   "source": []
  }
 ],
 "metadata": {
  "kernelspec": {
   "display_name": "Python 3",
   "language": "python",
   "name": "python3"
  },
  "language_info": {
   "codemirror_mode": {
    "name": "ipython",
    "version": 3
   },
   "file_extension": ".py",
   "mimetype": "text/x-python",
   "name": "python",
   "nbconvert_exporter": "python",
   "pygments_lexer": "ipython3",
   "version": "3.7.5"
  }
 },
 "nbformat": 4,
 "nbformat_minor": 2
}
