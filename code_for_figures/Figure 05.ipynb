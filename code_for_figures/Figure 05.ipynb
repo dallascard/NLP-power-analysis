{
 "cells": [
  {
   "cell_type": "code",
   "execution_count": 1,
   "metadata": {},
   "outputs": [],
   "source": [
    "%matplotlib inline\n",
    "import os\n",
    "import json\n",
    "from glob import glob\n",
    "from collections import defaultdict, Counter\n",
    "\n",
    "import numpy as np\n",
    "import matplotlib.pyplot as plt\n",
    "\n",
    "from scipy import stats\n",
    "import seaborn as sbn\n",
    "import pandas as pd\n",
    "pd.set_option('display.max_columns', 500)"
   ]
  },
  {
   "cell_type": "code",
   "execution_count": 2,
   "metadata": {},
   "outputs": [],
   "source": [
    "output_dir =  os.path.join('..', 'output')\n",
    "if not os.path.exists(output_dir):\n",
    "    os.makedirs(output_dir)"
   ]
  },
  {
   "cell_type": "code",
   "execution_count": 4,
   "metadata": {},
   "outputs": [
    {
     "name": "stdout",
     "output_type": "stream",
     "text": [
      "(117, 15)\n"
     ]
    },
    {
     "data": {
      "text/html": [
       "<div>\n",
       "<style scoped>\n",
       "    .dataframe tbody tr th:only-of-type {\n",
       "        vertical-align: middle;\n",
       "    }\n",
       "\n",
       "    .dataframe tbody tr th {\n",
       "        vertical-align: top;\n",
       "    }\n",
       "\n",
       "    .dataframe thead th {\n",
       "        text-align: right;\n",
       "    }\n",
       "</style>\n",
       "<table border=\"1\" class=\"dataframe\">\n",
       "  <thead>\n",
       "    <tr style=\"text-align: right;\">\n",
       "      <th></th>\n",
       "      <th>Link</th>\n",
       "      <th>Eval number</th>\n",
       "      <th>Dataset</th>\n",
       "      <th>Metric</th>\n",
       "      <th>Examples</th>\n",
       "      <th>Ann.Per.Ex</th>\n",
       "      <th>Tot.Ann</th>\n",
       "      <th>id</th>\n",
       "      <th>baseline</th>\n",
       "      <th>new</th>\n",
       "      <th>diff</th>\n",
       "      <th>diffPos</th>\n",
       "      <th>diffrank</th>\n",
       "      <th>Metric.category</th>\n",
       "      <th>BigCategory</th>\n",
       "    </tr>\n",
       "  </thead>\n",
       "  <tbody>\n",
       "    <tr>\n",
       "      <th>1</th>\n",
       "      <td>https://www.aclweb.org/anthology/D19-1190.pdf</td>\n",
       "      <td>1</td>\n",
       "      <td>a</td>\n",
       "      <td>Style intensity</td>\n",
       "      <td>500.0</td>\n",
       "      <td>5.0</td>\n",
       "      <td>5.0</td>\n",
       "      <td>35</td>\n",
       "      <td>0.960</td>\n",
       "      <td>0.260</td>\n",
       "      <td>-0.700</td>\n",
       "      <td>False</td>\n",
       "      <td>1</td>\n",
       "      <td>style</td>\n",
       "      <td>style</td>\n",
       "    </tr>\n",
       "    <tr>\n",
       "      <th>2</th>\n",
       "      <td>https://www.aclweb.org/anthology/D19-1190.pdf</td>\n",
       "      <td>1</td>\n",
       "      <td>b</td>\n",
       "      <td>Style intensity</td>\n",
       "      <td>500.0</td>\n",
       "      <td>5.0</td>\n",
       "      <td>5.0</td>\n",
       "      <td>37</td>\n",
       "      <td>0.690</td>\n",
       "      <td>0.280</td>\n",
       "      <td>-0.410</td>\n",
       "      <td>False</td>\n",
       "      <td>2</td>\n",
       "      <td>style</td>\n",
       "      <td>style</td>\n",
       "    </tr>\n",
       "    <tr>\n",
       "      <th>3</th>\n",
       "      <td>https://www.aclweb.org/anthology/D19-1366.pdf</td>\n",
       "      <td>1</td>\n",
       "      <td>a</td>\n",
       "      <td>Fluency</td>\n",
       "      <td>20.0</td>\n",
       "      <td>NaN</td>\n",
       "      <td>8.0</td>\n",
       "      <td>102</td>\n",
       "      <td>0.648</td>\n",
       "      <td>0.508</td>\n",
       "      <td>-0.140</td>\n",
       "      <td>False</td>\n",
       "      <td>3</td>\n",
       "      <td>fluency</td>\n",
       "      <td>style</td>\n",
       "    </tr>\n",
       "    <tr>\n",
       "      <th>4</th>\n",
       "      <td>https://www.aclweb.org/anthology/D19-1366.pdf</td>\n",
       "      <td>1</td>\n",
       "      <td>a</td>\n",
       "      <td>Sentiment compatibility</td>\n",
       "      <td>20.0</td>\n",
       "      <td>NaN</td>\n",
       "      <td>8.0</td>\n",
       "      <td>103</td>\n",
       "      <td>0.518</td>\n",
       "      <td>0.434</td>\n",
       "      <td>-0.084</td>\n",
       "      <td>False</td>\n",
       "      <td>4</td>\n",
       "      <td>sentiment</td>\n",
       "      <td>content</td>\n",
       "    </tr>\n",
       "    <tr>\n",
       "      <th>5</th>\n",
       "      <td>https://www.aclweb.org/anthology/D19-1323.pdf</td>\n",
       "      <td>1</td>\n",
       "      <td>nyt</td>\n",
       "      <td>Grammaticality</td>\n",
       "      <td>30.0</td>\n",
       "      <td>3.0</td>\n",
       "      <td>3.0</td>\n",
       "      <td>90</td>\n",
       "      <td>0.694</td>\n",
       "      <td>0.622</td>\n",
       "      <td>-0.072</td>\n",
       "      <td>False</td>\n",
       "      <td>5</td>\n",
       "      <td>grammar</td>\n",
       "      <td>style</td>\n",
       "    </tr>\n",
       "  </tbody>\n",
       "</table>\n",
       "</div>"
      ],
      "text/plain": [
       "                                            Link  Eval number Dataset  \\\n",
       "1  https://www.aclweb.org/anthology/D19-1190.pdf            1       a   \n",
       "2  https://www.aclweb.org/anthology/D19-1190.pdf            1       b   \n",
       "3  https://www.aclweb.org/anthology/D19-1366.pdf            1       a   \n",
       "4  https://www.aclweb.org/anthology/D19-1366.pdf            1       a   \n",
       "5  https://www.aclweb.org/anthology/D19-1323.pdf            1     nyt   \n",
       "\n",
       "                    Metric  Examples  Ann.Per.Ex  Tot.Ann   id  baseline  \\\n",
       "1          Style intensity     500.0         5.0      5.0   35     0.960   \n",
       "2          Style intensity     500.0         5.0      5.0   37     0.690   \n",
       "3                  Fluency      20.0         NaN      8.0  102     0.648   \n",
       "4  Sentiment compatibility      20.0         NaN      8.0  103     0.518   \n",
       "5           Grammaticality      30.0         3.0      3.0   90     0.694   \n",
       "\n",
       "     new   diff  diffPos  diffrank Metric.category BigCategory  \n",
       "1  0.260 -0.700    False         1           style       style  \n",
       "2  0.280 -0.410    False         2           style       style  \n",
       "3  0.508 -0.140    False         3         fluency       style  \n",
       "4  0.434 -0.084    False         4       sentiment     content  \n",
       "5  0.622 -0.072    False         5         grammar       style  "
      ]
     },
     "execution_count": 4,
     "metadata": {},
     "output_type": "execute_result"
    }
   ],
   "source": [
    "# load data\n",
    "df = pd.read_csv('../data/human_eval/num_items_vs_effect_size.csv', header=0, index_col=0)\n",
    "print(df.shape)\n",
    "df.head(n=5)"
   ]
  },
  {
   "cell_type": "code",
   "execution_count": 5,
   "metadata": {},
   "outputs": [
    {
     "name": "stdout",
     "output_type": "stream",
     "text": [
      "(109, 15)\n"
     ]
    }
   ],
   "source": [
    "# drop NaNs\n",
    "subset = df.dropna(axis='index', subset=['Examples', 'diff'])\n",
    "print(subset.shape)"
   ]
  },
  {
   "cell_type": "code",
   "execution_count": 6,
   "metadata": {},
   "outputs": [
    {
     "name": "stdout",
     "output_type": "stream",
     "text": [
      "(107, 15)\n"
     ]
    }
   ],
   "source": [
    "# exclude two large negative outliers\n",
    "subset = subset[subset['diff'] > -0.4]\n",
    "print(subset.shape)"
   ]
  },
  {
   "cell_type": "code",
   "execution_count": 7,
   "metadata": {},
   "outputs": [
    {
     "data": {
      "image/png": "[encoded data removed]",
      "text/plain": [
       "<Figure size 360x180 with 1 Axes>"
      ]
     },
     "metadata": {
      "needs_background": "light"
     },
     "output_type": "display_data"
    }
   ],
   "source": [
    "# plot the data\n",
    "fig, ax = plt.subplots(figsize=(5, 2.5))\n",
    "sbn.regplot('Examples', 'diff', data=subset, ax=ax, x_jitter=4, y_jitter=0.00, ci=95, scatter_kws={'s':30, 'alpha':0.6})\n",
    "ax.set_ylim(-0.25, 0.55)\n",
    "ax.plot([-30, 1050], [0, 0], 'k--', alpha=0.5)\n",
    "ax.set_xlabel('Number of items')\n",
    "ax.set_ylabel('Effect size')\n",
    "plt.savefig(os.path.join(output_dir, 'Figure05.pdf'), bbox_inches='tight')\n",
    "plt.show();"
   ]
  },
  {
   "cell_type": "code",
   "execution_count": 8,
   "metadata": {},
   "outputs": [
    {
     "data": {
      "text/plain": [
       "KendalltauResult(correlation=-0.06978286588694131, pvalue=0.3242904626942327)"
      ]
     },
     "execution_count": 8,
     "metadata": {},
     "output_type": "execute_result"
    }
   ],
   "source": [
    "# run Kendall's correlation test\n",
    "stats.kendalltau(subset['Examples'].values, subset['diff'].values)"
   ]
  },
  {
   "cell_type": "code",
   "execution_count": 9,
   "metadata": {},
   "outputs": [
    {
     "name": "stdout",
     "output_type": "stream",
     "text": [
      "                                            Link  Eval number Dataset  \\\n",
      "1  https://www.aclweb.org/anthology/D19-1190.pdf            1       a   \n",
      "2  https://www.aclweb.org/anthology/D19-1190.pdf            1       b   \n",
      "\n",
      "            Metric  Examples  Ann.Per.Ex  Tot.Ann  id  baseline   new  diff  \\\n",
      "1  Style intensity     500.0         5.0      5.0  35      0.96  0.26 -0.70   \n",
      "2  Style intensity     500.0         5.0      5.0  37      0.69  0.28 -0.41   \n",
      "\n",
      "   diffPos  diffrank Metric.category BigCategory  \n",
      "1    False         1           style       style  \n",
      "2    False         2           style       style  \n"
     ]
    }
   ],
   "source": [
    "# Show outliers we have excluded\n",
    "temp = df[df['diff'] < -0.4]\n",
    "print(temp)"
   ]
  },
  {
   "cell_type": "code",
   "execution_count": null,
   "metadata": {},
   "outputs": [],
   "source": []
  }
 ],
 "metadata": {
  "kernelspec": {
   "display_name": "Python 3",
   "language": "python",
   "name": "python3"
  },
  "language_info": {
   "codemirror_mode": {
    "name": "ipython",
    "version": 3
   },
   "file_extension": ".py",
   "mimetype": "text/x-python",
   "name": "python",
   "nbconvert_exporter": "python",
   "pygments_lexer": "ipython3",
   "version": "3.7.5"
  }
 },
 "nbformat": 4,
 "nbformat_minor": 2
}
