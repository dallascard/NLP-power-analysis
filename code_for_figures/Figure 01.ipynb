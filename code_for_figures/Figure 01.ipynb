{
 "cells": [
  {
   "cell_type": "code",
   "execution_count": 32,
   "metadata": {},
   "outputs": [],
   "source": [
    "%matplotlib inline\n",
    "\n",
    "import os\n",
    "import numpy as np\n",
    "from scipy.stats import binom_test\n",
    "import matplotlib.pyplot as plt"
   ]
  },
  {
   "cell_type": "code",
   "execution_count": 33,
   "metadata": {},
   "outputs": [],
   "source": [
    "output_dir =  os.path.join('..', 'output')\n",
    "if not os.path.exists(output_dir):\n",
    "    os.makedirs(output_dir)"
   ]
  },
  {
   "cell_type": "code",
   "execution_count": 40,
   "metadata": {
    "scrolled": true
   },
   "outputs": [
    {
     "name": "stdout",
     "output_type": "stream",
     "text": [
      "[61 60 64 69 69 64 53 71 61 64]\n",
      "[17 20 17 16 17 15 12 20 17 18]\n"
     ]
    },
    {
     "data": {
      "image/png": "[encoded data removed]",
      "text/plain": [
       "<Figure size 432x108 with 3 Axes>"
      ]
     },
     "metadata": {
      "needs_background": "light"
     },
     "output_type": "display_data"
    }
   ],
   "source": [
    "np.random.seed(716)\n",
    "\n",
    "b = 0.65\n",
    "\n",
    "fig, axes = plt.subplots(ncols=3, figsize=(6, 1.5), sharey=True)\n",
    "plt.subplots_adjust(wspace=0.4)\n",
    "axes[0].bar([0, 1], [100*(1-b), 100*b])\n",
    "axes[0].set_ylim(0, 100)\n",
    "axes[0].set_xticks([0, 1])\n",
    "#axes[0].plot([-0.5, 2-0.5], [100*b, 100*b], 'b--', alpha=0.8, label=None)\n",
    "axes[0].set_xticklabels(['A', 'B'])\n",
    "axes[0].set_ylabel('True pref. (%)')\n",
    "\n",
    "n = 100\n",
    "r = 10\n",
    "vals = np.random.binomial(n, p=b, size=r)\n",
    "print(vals)\n",
    "axes[1].plot([-0.5, r-0.5], [50, 50], 'k--', alpha=0.8, label=None)\n",
    "pvals = []\n",
    "for x in vals:\n",
    "    pvals.append(binom_test(x, n=n))\n",
    "for i, x in enumerate(vals):\n",
    "    if pvals[i] < 0.05 and x > 0.5:\n",
    "        c = 'r'\n",
    "    else:\n",
    "        c = 'k'\n",
    "    axes[1].bar([i], [x/n*100], facecolor=c, alpha=0.6)\n",
    "sig_mean = np.mean([v/n*100 for i, v in enumerate(vals) if pvals[i] < 0.05])\n",
    "axes[1].plot([-0.5, r-0.5], [sig_mean, sig_mean], c='b', linestyle=':', alpha=0.8, label=None)    \n",
    "axes[1].set_ylim(0, 100)\n",
    "axes[1].set_ylabel('Obs pref. for B')\n",
    "axes[1].set_xlabel('trials with n={:d}'.format(n))\n",
    "axes[1].set_xticks([])\n",
    "\n",
    "n = 25\n",
    "r = 10\n",
    "vals = np.random.binomial(n, p=b, size=r)\n",
    "print(vals)\n",
    "axes[2].plot([-0.5, r-0.5], [50, 50], 'k--', alpha=0.8, label=None)\n",
    "pvals = []\n",
    "for x in vals:\n",
    "    pvals.append(binom_test(x, n=n))\n",
    "for i, x in enumerate(vals):\n",
    "    if pvals[i] < 0.05 and x > 0.5:\n",
    "        c = 'r'\n",
    "    else:\n",
    "        c = 'k'\n",
    "    axes[2].bar([i], [x/n*100], facecolor=c, alpha=0.6)\n",
    "sig_mean = np.mean([v/n*100 for i, v in enumerate(vals) if pvals[i] < 0.05])\n",
    "axes[2].plot([-0.5, r-0.5], [sig_mean, sig_mean], c='b', linestyle=':', alpha=0.8, label=None)\n",
    "axes[2].set_ylim(0, 100)\n",
    "axes[2].set_ylabel('Obs pref. for B')\n",
    "axes[2].set_xlabel('trials with n={:d}'.format(n))\n",
    "axes[2].set_xticks([])\n",
    "\n",
    "plt.savefig(os.path.join(output_dir, 'Figure01.pdf'), bbox_inches='tight');\n",
    "plt.show();"
   ]
  },
  {
   "cell_type": "code",
   "execution_count": 43,
   "metadata": {},
   "outputs": [],
   "source": [
    "def binom_power(true_prob, null_prob, n, trials=10000, alpha=0.05):\n",
    "    # generate samples\n",
    "    obs_vals = np.random.binomial(n, p=true_prob, size=trials)\n",
    "    # count successes (rejections)\n",
    "    successes = 0\n",
    "    for x in obs_vals:\n",
    "        pval = binom_test(x, n=n, p=null_prob)\n",
    "        # look for p < 0.05 and correct sign\n",
    "        if pval < alpha and np.sign(x / n - null_prob) == np.sign(true_prob - null_prob):\n",
    "            successes += 1\n",
    "    return successes / trials\n"
   ]
  },
  {
   "cell_type": "code",
   "execution_count": 46,
   "metadata": {},
   "outputs": [
    {
     "name": "stdout",
     "output_type": "stream",
     "text": [
      "Power = 0.826\n"
     ]
    }
   ],
   "source": [
    "pvals = []\n",
    "true_pref = 0.65\n",
    "null_pref = 0.5\n",
    "trials = 100000\n",
    "n = 100\n",
    "power = binom_power(true_pref, null_pref, n, trials, alpha=0.05)\n",
    "print(\"Power = {:.3f}\".format(power))  "
   ]
  },
  {
   "cell_type": "code",
   "execution_count": 47,
   "metadata": {},
   "outputs": [
    {
     "name": "stdout",
     "output_type": "stream",
     "text": [
      "Power = 0.305\n"
     ]
    }
   ],
   "source": [
    "pvals = []\n",
    "true_pref = 0.65\n",
    "null_pref = 0.5\n",
    "trials = 100000\n",
    "n = 25\n",
    "power = binom_power(true_pref, null_pref, n, trials, alpha=0.05)\n",
    "print(\"Power = {:.3f}\".format(power))  "
   ]
  },
  {
   "cell_type": "code",
   "execution_count": null,
   "metadata": {},
   "outputs": [],
   "source": []
  }
 ],
 "metadata": {
  "kernelspec": {
   "display_name": "Python 3",
   "language": "python",
   "name": "python3"
  },
  "language_info": {
   "codemirror_mode": {
    "name": "ipython",
    "version": 3
   },
   "file_extension": ".py",
   "mimetype": "text/x-python",
   "name": "python",
   "nbconvert_exporter": "python",
   "pygments_lexer": "ipython3",
   "version": "3.8.5"
  }
 },
 "nbformat": 4,
 "nbformat_minor": 2
}
