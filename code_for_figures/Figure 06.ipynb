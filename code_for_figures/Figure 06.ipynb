{
 "cells": [
  {
   "cell_type": "code",
   "execution_count": 1,
   "metadata": {},
   "outputs": [],
   "source": [
    "%matplotlib inline\n",
    "\n",
    "import os\n",
    "\n",
    "import numpy as np\n",
    "import pandas as pd\n",
    "import matplotlib.pyplot as plt\n",
    "import seaborn as sbn\n"
   ]
  },
  {
   "cell_type": "code",
   "execution_count": 2,
   "metadata": {},
   "outputs": [],
   "source": [
    "output_dir =  os.path.join('..', 'output')\n",
    "if not os.path.exists(output_dir):\n",
    "    os.makedirs(output_dir)"
   ]
  },
  {
   "cell_type": "code",
   "execution_count": 4,
   "metadata": {},
   "outputs": [
    {
     "name": "stdout",
     "output_type": "stream",
     "text": [
      "(48, 6)\n"
     ]
    },
    {
     "data": {
      "text/html": [
       "<div>\n",
       "<style scoped>\n",
       "    .dataframe tbody tr th:only-of-type {\n",
       "        vertical-align: middle;\n",
       "    }\n",
       "\n",
       "    .dataframe tbody tr th {\n",
       "        vertical-align: top;\n",
       "    }\n",
       "\n",
       "    .dataframe thead th {\n",
       "        text-align: right;\n",
       "    }\n",
       "</style>\n",
       "<table border=\"1\" class=\"dataframe\">\n",
       "  <thead>\n",
       "    <tr style=\"text-align: right;\">\n",
       "      <th></th>\n",
       "      <th>diff</th>\n",
       "      <th>ex</th>\n",
       "      <th>power</th>\n",
       "      <th>num.workers</th>\n",
       "      <th>Number of Items</th>\n",
       "      <th>settings</th>\n",
       "    </tr>\n",
       "  </thead>\n",
       "  <tbody>\n",
       "    <tr>\n",
       "      <th>1</th>\n",
       "      <td>0.05</td>\n",
       "      <td>50</td>\n",
       "      <td>0.235</td>\n",
       "      <td>3</td>\n",
       "      <td>50</td>\n",
       "      <td>High var. settings</td>\n",
       "    </tr>\n",
       "    <tr>\n",
       "      <th>2</th>\n",
       "      <td>0.05</td>\n",
       "      <td>50</td>\n",
       "      <td>0.240</td>\n",
       "      <td>10</td>\n",
       "      <td>50</td>\n",
       "      <td>High var. settings</td>\n",
       "    </tr>\n",
       "    <tr>\n",
       "      <th>3</th>\n",
       "      <td>0.05</td>\n",
       "      <td>100</td>\n",
       "      <td>0.270</td>\n",
       "      <td>3</td>\n",
       "      <td>100</td>\n",
       "      <td>High var. settings</td>\n",
       "    </tr>\n",
       "    <tr>\n",
       "      <th>4</th>\n",
       "      <td>0.05</td>\n",
       "      <td>100</td>\n",
       "      <td>0.315</td>\n",
       "      <td>10</td>\n",
       "      <td>100</td>\n",
       "      <td>High var. settings</td>\n",
       "    </tr>\n",
       "    <tr>\n",
       "      <th>5</th>\n",
       "      <td>0.05</td>\n",
       "      <td>500</td>\n",
       "      <td>0.270</td>\n",
       "      <td>3</td>\n",
       "      <td>500</td>\n",
       "      <td>High var. settings</td>\n",
       "    </tr>\n",
       "  </tbody>\n",
       "</table>\n",
       "</div>"
      ],
      "text/plain": [
       "   diff   ex  power  num.workers  Number of Items            settings\n",
       "1  0.05   50  0.235            3               50  High var. settings\n",
       "2  0.05   50  0.240           10               50  High var. settings\n",
       "3  0.05  100  0.270            3              100  High var. settings\n",
       "4  0.05  100  0.315           10              100  High var. settings\n",
       "5  0.05  500  0.270            3              500  High var. settings"
      ]
     },
     "execution_count": 4,
     "metadata": {},
     "output_type": "execute_result"
    }
   ],
   "source": [
    "df = pd.read_csv('../data/human_eval/highvar_lowmer_lmer.csv', header=0, index_col=0)\n",
    "print(df.shape)\n",
    "df.head()"
   ]
  },
  {
   "cell_type": "code",
   "execution_count": 6,
   "metadata": {},
   "outputs": [
    {
     "data": {
      "image/png": "[encoded data removed]",
      "text/plain": [
       "<Figure size 360x216 with 4 Axes>"
      ]
     },
     "metadata": {},
     "output_type": "display_data"
    }
   ],
   "source": [
    "with plt.style.context(\"seaborn-whitegrid\"):\n",
    "    plt.rcParams[\"axes.edgecolor\"] = \"0.15\"\n",
    "    plt.rcParams[\"axes.linewidth\"]  = 0.5\n",
    "    plt.rcParams[\"grid.alpha\"]  = 0.4\n",
    "    #plt.rcParams[\"font.scale\"]  = 1.5\n",
    "    fig, axes = plt.subplots(nrows=2, ncols=2, figsize=(5, 3), sharex=True, sharey=True)\n",
    "\n",
    "textx = 0.11\n",
    "texty = 0.05\n",
    "\n",
    "#sbn.set(font_scale=1.1)\n",
    "plt.subplots_adjust(wspace=0.05, hspace=0.1)\n",
    "markers = ['o', '^', 'v', 's', 'x']\n",
    "subset = df[(df['settings'] == 'High var. settings') & (df['num.workers'] == 3)]\n",
    "for n_i, n in enumerate([500, 100, 50]):\n",
    "    rows = subset[subset['ex'] == n]\n",
    "    x = rows['diff'].values\n",
    "    y = rows['power'].values\n",
    "    axes[0][0].plot(x, y, label=str(n), marker=markers[n_i], alpha=0.8)\n",
    "axes[0][0].set_title('3 workers')\n",
    "axes[0][0].text(textx, texty, 'High variance', c='darkred')\n",
    "\n",
    "subset = df[(df['settings'] == 'High var. settings') & (df['num.workers'] == 10)]\n",
    "for n_i, n in enumerate([500, 100, 50]):\n",
    "    rows = subset[subset['ex'] == n]\n",
    "    x = rows['diff'].values\n",
    "    y = rows['power'].values\n",
    "    axes[0][1].plot(x, y, label=str(n) + ' items', marker=markers[n_i], alpha=0.8)\n",
    "axes[0][1].set_title('10 workers')\n",
    "axes[0][1].text(textx, texty, 'High variance', c='darkred')\n",
    "\n",
    "subset = df[(df['settings'] == 'Low var. settings') & (df['num.workers'] == 3)]\n",
    "for n_i, n in enumerate([500, 100, 50]):\n",
    "    rows = subset[subset['ex'] == n]\n",
    "    x = rows['diff'].values\n",
    "    y = rows['power'].values\n",
    "    axes[1][0].plot(x, y, label=str(n) + ' items', marker=markers[n_i], alpha=0.8)\n",
    "axes[1][0].text(textx, texty, 'Low variance', c='g')\n",
    "    \n",
    "subset = df[(df['settings'] == 'Low var. settings') & (df['num.workers'] == 10)]\n",
    "for n_i, n in enumerate([500, 100, 50]):\n",
    "    rows = subset[subset['ex'] == n]\n",
    "    x = rows['diff'].values\n",
    "    y = rows['power'].values\n",
    "    axes[1][1].plot(x, y, label=str(n) + ' items', marker=markers[n_i], alpha=0.8)\n",
    "axes[1][1].text(textx, texty, 'Low variance', c='g')      \n",
    "    \n",
    "axes[0][1].legend(loc='upper left', bbox_to_anchor=(1,1))    \n",
    "axes[0][0].set_ylim(-0.1, 1.1)\n",
    "axes[0][0].set_yticks([0, 0.25, 0.5, 0.75, 1.0])\n",
    "axes[0][0].set_xlim(0.02, 0.22)\n",
    "axes[0][0].set_xticks([0.05, 0.1, 0.15, 0.2])\n",
    "axes[0][0].set_ylabel('power')\n",
    "axes[1][0].set_ylabel('power')\n",
    "axes[1][0].set_xlabel('mean difference')\n",
    "axes[1][1].set_xlabel('mean difference')\n",
    "\n",
    "plt.savefig(os.path.join(output_dir, 'Figure06.pdf'), bbox_inches='tight')\n",
    "plt.show();\n",
    "\n"
   ]
  },
  {
   "cell_type": "code",
   "execution_count": null,
   "metadata": {},
   "outputs": [],
   "source": []
  }
 ],
 "metadata": {
  "kernelspec": {
   "display_name": "Python 3",
   "language": "python",
   "name": "python3"
  },
  "language_info": {
   "codemirror_mode": {
    "name": "ipython",
    "version": 3
   },
   "file_extension": ".py",
   "mimetype": "text/x-python",
   "name": "python",
   "nbconvert_exporter": "python",
   "pygments_lexer": "ipython3",
   "version": "3.7.5"
  }
 },
 "nbformat": 4,
 "nbformat_minor": 2
}
