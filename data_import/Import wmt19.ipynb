{
 "cells": [
  {
   "cell_type": "code",
   "execution_count": 1,
   "metadata": {},
   "outputs": [],
   "source": [
    "%matplotlib inline\n",
    "import os\n",
    "import glob\n",
    "import json\n",
    "import tarfile\n",
    "from collections import Counter, defaultdict\n",
    "\n",
    "import urllib\n",
    "import numpy as np\n",
    "import pandas as pd\n",
    "import matplotlib.pyplot as plt"
   ]
  },
  {
   "cell_type": "code",
   "execution_count": 3,
   "metadata": {},
   "outputs": [
    {
     "data": {
      "text/plain": [
       "('../data/annotated_datasets/newstest2019-humaneval.tar.gz',\n",
       " <http.client.HTTPMessage at 0x7fd00fab3690>)"
      ]
     },
     "execution_count": 3,
     "metadata": {},
     "output_type": "execute_result"
    }
   ],
   "source": [
    "# Download the wmt19 data from https://www.computing.dcu.ie/~ygraham/newstest2019-humaneval.tar.gz\n",
    "# (linked from http://www.statmt.org/wmt19/results.html)\n",
    "\n",
    "url = 'https://www.computing.dcu.ie/~ygraham/newstest2019-humaneval.tar.gz'\n",
    "outdir = os.path.join('..', 'data', 'annotated_datasets')\n",
    "if not os.path.exists(outdir):\n",
    "    os.makedirs(outdir)\n",
    "outfile = os.path.join(outdir, 'newstest2019-humaneval.tar.gz')\n",
    "urllib.request.urlretrieve(url, outfile)"
   ]
  },
  {
   "cell_type": "code",
   "execution_count": 10,
   "metadata": {},
   "outputs": [
    {
     "name": "stdout",
     "output_type": "stream",
     "text": [
      "(194625, 12)\n"
     ]
    },
    {
     "data": {
      "text/html": [
       "<div>\n",
       "<style scoped>\n",
       "    .dataframe tbody tr th:only-of-type {\n",
       "        vertical-align: middle;\n",
       "    }\n",
       "\n",
       "    .dataframe tbody tr th {\n",
       "        vertical-align: top;\n",
       "    }\n",
       "\n",
       "    .dataframe thead th {\n",
       "        text-align: right;\n",
       "    }\n",
       "</style>\n",
       "<table border=\"1\" class=\"dataframe\">\n",
       "  <thead>\n",
       "    <tr style=\"text-align: right;\">\n",
       "      <th></th>\n",
       "      <th>HITId</th>\n",
       "      <th>WorkerId</th>\n",
       "      <th>Input.src</th>\n",
       "      <th>Input.trg</th>\n",
       "      <th>Input.item</th>\n",
       "      <th>hit</th>\n",
       "      <th>sys_id</th>\n",
       "      <th>rid</th>\n",
       "      <th>type</th>\n",
       "      <th>sid</th>\n",
       "      <th>score</th>\n",
       "      <th>time</th>\n",
       "    </tr>\n",
       "  </thead>\n",
       "  <tbody>\n",
       "    <tr>\n",
       "      <th>0</th>\n",
       "      <td>NaN</td>\n",
       "      <td>engfine420</td>\n",
       "      <td>en</td>\n",
       "      <td>fi</td>\n",
       "      <td>ad</td>\n",
       "      <td>NaN</td>\n",
       "      <td>HUMAN</td>\n",
       "      <td>NaN</td>\n",
       "      <td>SYSTEM</td>\n",
       "      <td>rt.com.91335_8</td>\n",
       "      <td>100</td>\n",
       "      <td>20.122</td>\n",
       "    </tr>\n",
       "    <tr>\n",
       "      <th>1</th>\n",
       "      <td>NaN</td>\n",
       "      <td>engfine420</td>\n",
       "      <td>en</td>\n",
       "      <td>fi</td>\n",
       "      <td>ad</td>\n",
       "      <td>NaN</td>\n",
       "      <td>online-X.0</td>\n",
       "      <td>NaN</td>\n",
       "      <td>SYSTEM</td>\n",
       "      <td>cnbc.com.6790_8</td>\n",
       "      <td>97</td>\n",
       "      <td>13.802</td>\n",
       "    </tr>\n",
       "    <tr>\n",
       "      <th>2</th>\n",
       "      <td>NaN</td>\n",
       "      <td>engfine420</td>\n",
       "      <td>en</td>\n",
       "      <td>fi</td>\n",
       "      <td>ad</td>\n",
       "      <td>NaN</td>\n",
       "      <td>online-Y.0</td>\n",
       "      <td>NaN</td>\n",
       "      <td>SYSTEM</td>\n",
       "      <td>newsweek.51331_20</td>\n",
       "      <td>65</td>\n",
       "      <td>6.619</td>\n",
       "    </tr>\n",
       "    <tr>\n",
       "      <th>3</th>\n",
       "      <td>NaN</td>\n",
       "      <td>engfine420</td>\n",
       "      <td>en</td>\n",
       "      <td>fi</td>\n",
       "      <td>ad</td>\n",
       "      <td>NaN</td>\n",
       "      <td>online-Y.0</td>\n",
       "      <td>NaN</td>\n",
       "      <td>SYSTEM</td>\n",
       "      <td>newsweek.51331_8</td>\n",
       "      <td>55</td>\n",
       "      <td>15.882</td>\n",
       "    </tr>\n",
       "    <tr>\n",
       "      <th>4</th>\n",
       "      <td>NaN</td>\n",
       "      <td>engfine420</td>\n",
       "      <td>en</td>\n",
       "      <td>fi</td>\n",
       "      <td>ad</td>\n",
       "      <td>NaN</td>\n",
       "      <td>online-Y.0</td>\n",
       "      <td>NaN</td>\n",
       "      <td>SYSTEM</td>\n",
       "      <td>newsweek.51331_6</td>\n",
       "      <td>53</td>\n",
       "      <td>9.849</td>\n",
       "    </tr>\n",
       "  </tbody>\n",
       "</table>\n",
       "</div>"
      ],
      "text/plain": [
       "   HITId    WorkerId Input.src Input.trg Input.item  hit      sys_id  rid  \\\n",
       "0    NaN  engfine420        en        fi         ad  NaN       HUMAN  NaN   \n",
       "1    NaN  engfine420        en        fi         ad  NaN  online-X.0  NaN   \n",
       "2    NaN  engfine420        en        fi         ad  NaN  online-Y.0  NaN   \n",
       "3    NaN  engfine420        en        fi         ad  NaN  online-Y.0  NaN   \n",
       "4    NaN  engfine420        en        fi         ad  NaN  online-Y.0  NaN   \n",
       "\n",
       "     type                sid  score    time  \n",
       "0  SYSTEM     rt.com.91335_8    100  20.122  \n",
       "1  SYSTEM    cnbc.com.6790_8     97  13.802  \n",
       "2  SYSTEM  newsweek.51331_20     65   6.619  \n",
       "3  SYSTEM   newsweek.51331_8     55  15.882  \n",
       "4  SYSTEM   newsweek.51331_6     53   9.849  "
      ]
     },
     "execution_count": 10,
     "metadata": {},
     "output_type": "execute_result"
    }
   ],
   "source": [
    "# Extract a particular .tsv file from the downloaded tar.gz file\n",
    "with tarfile.open(outfile, \"r:gz\") as tar:\n",
    "    filepath = os.path.join('newstest2019-humaneval', 'appraise-doclevel-humaneval-newstest2019', 'analysis', 'ad-good-raw-redup.csv')\n",
    "    df = pd.read_csv(tar.extractfile(filepath), sep='\\t')\n",
    "\n",
    "print(df.shape)\n",
    "df.head()"
   ]
  },
  {
   "cell_type": "code",
   "execution_count": 11,
   "metadata": {},
   "outputs": [
    {
     "name": "stdout",
     "output_type": "stream",
     "text": [
      "{'kk', 'ru', 'zh', 'gu', 'fi', 'de', 'lt', 'cs'}\n",
      "Counter({'de': 49535, 'cs': 29207, 'zh': 28801, 'ru': 24441, 'fi': 22310, 'kk': 15039, 'lt': 14069, 'gu': 11223})\n"
     ]
    }
   ],
   "source": [
    "# Target language\n",
    "print(set(df['Input.trg'].values))\n",
    "target_counter = Counter(df['Input.trg'])\n",
    "print(target_counter)"
   ]
  },
  {
   "cell_type": "code",
   "execution_count": 12,
   "metadata": {},
   "outputs": [
    {
     "name": "stdout",
     "output_type": "stream",
     "text": [
      "(49535, 12)\n"
     ]
    }
   ],
   "source": [
    "# Let's just use the largest subset for now (en->de)\n",
    "subset = df[df['Input.trg'] == 'de']\n",
    "print(subset.shape)"
   ]
  },
  {
   "cell_type": "code",
   "execution_count": 13,
   "metadata": {},
   "outputs": [
    {
     "name": "stdout",
     "output_type": "stream",
     "text": [
      "{'en'}\n"
     ]
    }
   ],
   "source": [
    "# Source language\n",
    "print(set(df['Input.src'].values))"
   ]
  },
  {
   "cell_type": "code",
   "execution_count": 14,
   "metadata": {},
   "outputs": [
    {
     "data": {
      "text/plain": [
       "286"
      ]
     },
     "execution_count": 14,
     "metadata": {},
     "output_type": "execute_result"
    }
   ],
   "source": [
    "# Annotators\n",
    "len(set(subset['WorkerId']))"
   ]
  },
  {
   "cell_type": "code",
   "execution_count": 15,
   "metadata": {},
   "outputs": [
    {
     "name": "stdout",
     "output_type": "stream",
     "text": [
      "Counter({'HUMAN': 2440, 'UdS-DFKI.6871': 2288, 'MLLP-UPV.6651': 2274, 'NEU.6763': 2231, 'Microsoft-WMT19-sentence_document.6974': 2223, 'UCAM.6731': 2204, 'lmu-ctx-tf-single-en-de.6981': 2189, 'online-B.0': 2185, 'eTranslation.6823': 2174, 'dfki-nmt.6479': 2173, 'JHU.6819': 2168, 'TartuNLP-c.6508': 2154, 'online-G.0': 2151, 'online-A.0': 2135, 'online-X.0': 2119, 'Microsoft-WMT19-sentence-level.6785': 2115, 'online-Y.0': 2101, 'Facebook_FAIR.6862': 2091, 'PROMT_NMT_EN-DE.6674': 2071, 'Microsoft-WMT19-document-level.6808': 2064, 'en_de_task.6790': 2053, 'Helsinki-NLP.6820': 2029, 'MSRA.MADL.6926': 1903})\n"
     ]
    }
   ],
   "source": [
    "# Translation systems (?)\n",
    "len(set(subset['sys_id']))\n",
    "sys_counter = Counter(subset['sys_id'])\n",
    "print(sys_counter)"
   ]
  },
  {
   "cell_type": "code",
   "execution_count": 16,
   "metadata": {},
   "outputs": [
    {
     "name": "stdout",
     "output_type": "stream",
     "text": [
      "1997\n",
      "1997\n"
     ]
    }
   ],
   "source": [
    "# Sentence ID (?)\n",
    "print(len(set(df['sid'])))\n",
    "print(len(set(subset['sid'])))"
   ]
  },
  {
   "cell_type": "code",
   "execution_count": 17,
   "metadata": {},
   "outputs": [
    {
     "name": "stdout",
     "output_type": "stream",
     "text": [
      "{'SYSTEM'}\n"
     ]
    }
   ],
   "source": [
    "# not meaningful\n",
    "print(set(df['type']))"
   ]
  },
  {
   "cell_type": "code",
   "execution_count": 18,
   "metadata": {},
   "outputs": [],
   "source": [
    "# Choose two models and assign numeric IDs\n",
    "model_map = {'HUMAN': -0.5, 'UdS-DFKI.6871': 0.5}\n",
    "models = subset['sys_id'].values\n",
    "sel = [index for i, index in enumerate(subset.index) if models[i] in model_map]"
   ]
  },
  {
   "cell_type": "code",
   "execution_count": 19,
   "metadata": {},
   "outputs": [
    {
     "name": "stdout",
     "output_type": "stream",
     "text": [
      "(4728, 12)\n"
     ]
    },
    {
     "data": {
      "text/html": [
       "<div>\n",
       "<style scoped>\n",
       "    .dataframe tbody tr th:only-of-type {\n",
       "        vertical-align: middle;\n",
       "    }\n",
       "\n",
       "    .dataframe tbody tr th {\n",
       "        vertical-align: top;\n",
       "    }\n",
       "\n",
       "    .dataframe thead th {\n",
       "        text-align: right;\n",
       "    }\n",
       "</style>\n",
       "<table border=\"1\" class=\"dataframe\">\n",
       "  <thead>\n",
       "    <tr style=\"text-align: right;\">\n",
       "      <th></th>\n",
       "      <th>HITId</th>\n",
       "      <th>WorkerId</th>\n",
       "      <th>Input.src</th>\n",
       "      <th>Input.trg</th>\n",
       "      <th>Input.item</th>\n",
       "      <th>hit</th>\n",
       "      <th>sys_id</th>\n",
       "      <th>rid</th>\n",
       "      <th>type</th>\n",
       "      <th>sid</th>\n",
       "      <th>score</th>\n",
       "      <th>time</th>\n",
       "    </tr>\n",
       "  </thead>\n",
       "  <tbody>\n",
       "    <tr>\n",
       "      <th>104</th>\n",
       "      <td>NaN</td>\n",
       "      <td>engdeue428</td>\n",
       "      <td>en</td>\n",
       "      <td>de</td>\n",
       "      <td>ad</td>\n",
       "      <td>NaN</td>\n",
       "      <td>UdS-DFKI.6871</td>\n",
       "      <td>NaN</td>\n",
       "      <td>SYSTEM</td>\n",
       "      <td>dailymail.co.uk.298696_16</td>\n",
       "      <td>81</td>\n",
       "      <td>5.865</td>\n",
       "    </tr>\n",
       "    <tr>\n",
       "      <th>341</th>\n",
       "      <td>NaN</td>\n",
       "      <td>engdeue42f</td>\n",
       "      <td>en</td>\n",
       "      <td>de</td>\n",
       "      <td>ad</td>\n",
       "      <td>NaN</td>\n",
       "      <td>HUMAN</td>\n",
       "      <td>NaN</td>\n",
       "      <td>SYSTEM</td>\n",
       "      <td>rt.com.91334_13</td>\n",
       "      <td>85</td>\n",
       "      <td>31.888</td>\n",
       "    </tr>\n",
       "    <tr>\n",
       "      <th>342</th>\n",
       "      <td>NaN</td>\n",
       "      <td>engdeue42f</td>\n",
       "      <td>en</td>\n",
       "      <td>de</td>\n",
       "      <td>ad</td>\n",
       "      <td>NaN</td>\n",
       "      <td>HUMAN</td>\n",
       "      <td>NaN</td>\n",
       "      <td>SYSTEM</td>\n",
       "      <td>rt.com.91334_5</td>\n",
       "      <td>92</td>\n",
       "      <td>43.522</td>\n",
       "    </tr>\n",
       "    <tr>\n",
       "      <th>346</th>\n",
       "      <td>NaN</td>\n",
       "      <td>engdeue42f</td>\n",
       "      <td>en</td>\n",
       "      <td>de</td>\n",
       "      <td>ad</td>\n",
       "      <td>NaN</td>\n",
       "      <td>HUMAN</td>\n",
       "      <td>NaN</td>\n",
       "      <td>SYSTEM</td>\n",
       "      <td>upi.176251_12</td>\n",
       "      <td>93</td>\n",
       "      <td>10.688</td>\n",
       "    </tr>\n",
       "    <tr>\n",
       "      <th>347</th>\n",
       "      <td>NaN</td>\n",
       "      <td>engdeue42f</td>\n",
       "      <td>en</td>\n",
       "      <td>de</td>\n",
       "      <td>ad</td>\n",
       "      <td>NaN</td>\n",
       "      <td>HUMAN</td>\n",
       "      <td>NaN</td>\n",
       "      <td>SYSTEM</td>\n",
       "      <td>upi.176251_10</td>\n",
       "      <td>76</td>\n",
       "      <td>20.090</td>\n",
       "    </tr>\n",
       "  </tbody>\n",
       "</table>\n",
       "</div>"
      ],
      "text/plain": [
       "     HITId    WorkerId Input.src Input.trg Input.item  hit         sys_id  \\\n",
       "104    NaN  engdeue428        en        de         ad  NaN  UdS-DFKI.6871   \n",
       "341    NaN  engdeue42f        en        de         ad  NaN          HUMAN   \n",
       "342    NaN  engdeue42f        en        de         ad  NaN          HUMAN   \n",
       "346    NaN  engdeue42f        en        de         ad  NaN          HUMAN   \n",
       "347    NaN  engdeue42f        en        de         ad  NaN          HUMAN   \n",
       "\n",
       "     rid    type                        sid  score    time  \n",
       "104  NaN  SYSTEM  dailymail.co.uk.298696_16     81   5.865  \n",
       "341  NaN  SYSTEM            rt.com.91334_13     85  31.888  \n",
       "342  NaN  SYSTEM             rt.com.91334_5     92  43.522  \n",
       "346  NaN  SYSTEM              upi.176251_12     93  10.688  \n",
       "347  NaN  SYSTEM              upi.176251_10     76  20.090  "
      ]
     },
     "execution_count": 19,
     "metadata": {},
     "output_type": "execute_result"
    }
   ],
   "source": [
    "# Take a subset\n",
    "subset_comp = subset.loc[sel]\n",
    "print(subset_comp.shape)\n",
    "subset_comp.head()"
   ]
  },
  {
   "cell_type": "code",
   "execution_count": 20,
   "metadata": {},
   "outputs": [
    {
     "name": "stdout",
     "output_type": "stream",
     "text": [
      "{'UdS-DFKI.6871', 'HUMAN'}\n"
     ]
    }
   ],
   "source": [
    "# Squeeze scores into [0, 1]\n",
    "print(set(subset_comp['sys_id'].values))\n",
    "subset_comp['model_code'] = [model_map[model] for model in subset_comp['sys_id'].values]\n",
    "subset_comp['score_scaled'] = [s/100. for s in subset_comp['score'].values]"
   ]
  },
  {
   "cell_type": "code",
   "execution_count": 22,
   "metadata": {},
   "outputs": [],
   "source": [
    "subset_comp.to_csv(os.path.join(outdir, 'wmt19.csv'))"
   ]
  },
  {
   "cell_type": "code",
   "execution_count": null,
   "metadata": {},
   "outputs": [],
   "source": []
  }
 ],
 "metadata": {
  "kernelspec": {
   "display_name": "Python 3",
   "language": "python",
   "name": "python3"
  },
  "language_info": {
   "codemirror_mode": {
    "name": "ipython",
    "version": 3
   },
   "file_extension": ".py",
   "mimetype": "text/x-python",
   "name": "python",
   "nbconvert_exporter": "python",
   "pygments_lexer": "ipython3",
   "version": "3.7.5"
  }
 },
 "nbformat": 4,
 "nbformat_minor": 4
}
